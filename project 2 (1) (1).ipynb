{
 "cells": [
  {
   "cell_type": "code",
   "execution_count": null,
   "id": "f29ca3a3-3df7-4050-b321-f7c654b99490",
   "metadata": {},
   "outputs": [],
   "source": [
    "#Milestone Project 2 - Walkthrough Steps Workbook"
   ]
  },
  {
   "cell_type": "code",
   "execution_count": 1,
   "id": "552f9619-f44f-4341-9654-b93716dae7fc",
   "metadata": {},
   "outputs": [
    {
     "name": "stdout",
     "output_type": "stream",
     "text": [
      "\n",
      "You have 100 chips.\n"
     ]
    },
    {
     "name": "stdin",
     "output_type": "stream",
     "text": [
      "Enter your bet (1 to 100):  50\n"
     ]
    },
    {
     "name": "stdout",
     "output_type": "stream",
     "text": [
      "\n",
      "Your hand: [('Jack', 'Diamonds'), ('Queen', 'Hearts')] (Value: 20)\n",
      "Dealer's hand: ('4', 'Hearts') and a hidden card.\n"
     ]
    },
    {
     "name": "stdin",
     "output_type": "stream",
     "text": [
      "Do you want to Hit or Stand? (H/S):  5\n",
      "Do you want to Hit or Stand? (H/S):  6\n",
      "Do you want to Hit or Stand? (H/S):  h\n"
     ]
    },
    {
     "name": "stdout",
     "output_type": "stream",
     "text": [
      "Your hand: [('Jack', 'Diamonds'), ('Queen', 'Hearts'), ('6', 'Clubs')] (Value: 26)\n",
      "You Bust! Dealer wins.\n"
     ]
    },
    {
     "name": "stdin",
     "output_type": "stream",
     "text": [
      "Do you want to play again? (Y/N):  n\n"
     ]
    }
   ],
   "source": [
    "import random\n",
    "\n",
    "\n",
    "suits = ('Hearts', 'Diamonds', 'Clubs', 'Spades')\n",
    "ranks = ('2', '3', '4', '5', '6', '7', '8', '9', '10', 'Jack', 'Queen', 'King', 'Ace')\n",
    "values = {'2': 2, '3': 3, '4': 4, '5': 5, '6': 6, '7': 7, '8': 8, '9': 9,\n",
    "          '10': 10, 'Jack': 10, 'Queen': 10, 'King': 10, 'Ace': 11}\n",
    "\n",
    "def create_deck():\n",
    "    deck = [(rank, suit) for suit in suits for rank in ranks]\n",
    "    random.shuffle(deck)\n",
    "    return deck\n",
    "\n",
    "\n",
    "def calculate_hand_value(hand):\n",
    "    value = sum(values[card[0]] for card in hand)\n",
    "    # Adjust for Aces\n",
    "    aces = sum(1 for card in hand if card[0] == 'Ace')\n",
    "    while value > 21 and aces:\n",
    "        value -= 10\n",
    "        aces -= 1\n",
    "    return value\n",
    "\n",
    "\n",
    "def deal_cards(deck, num=2):\n",
    "    return [deck.pop() for _ in range(num)]\n",
    "\n",
    "\n",
    "def play_blackjack():\n",
    "    chips = 100  # Starting chips\n",
    "    while True:\n",
    "        print(f\"\\nYou have {chips} chips.\")\n",
    "        \n",
    "        # Player's bet\n",
    "        bet = 0\n",
    "        while bet <= 0 or bet > chips:\n",
    "            bet = int(input(f\"Enter your bet (1 to {chips}): \"))\n",
    "        \n",
    "        # Create and shuffle deck\n",
    "        deck = create_deck()\n",
    "        \n",
    "        # Deal cards\n",
    "        player_hand = deal_cards(deck)\n",
    "        dealer_hand = deal_cards(deck)\n",
    "        \n",
    "        # Show hands\n",
    "        print(f\"\\nYour hand: {player_hand} (Value: {calculate_hand_value(player_hand)})\")\n",
    "        print(f\"Dealer's hand: {dealer_hand[0]} and a hidden card.\")\n",
    "        \n",
    "        # Player's turn\n",
    "        while True:\n",
    "            action = input(\"Do you want to Hit or Stand? (H/S): \").strip().lower()\n",
    "            if action == 'h':\n",
    "                player_hand.append(deck.pop())\n",
    "                print(f\"Your hand: {player_hand} (Value: {calculate_hand_value(player_hand)})\")\n",
    "                if calculate_hand_value(player_hand) > 21:\n",
    "                    print(\"You Bust! Dealer wins.\")\n",
    "                    chips -= bet\n",
    "                    break\n",
    "            elif action == 's':\n",
    "                break\n",
    "        \n",
    "        # Dealer's turn\n",
    "        if calculate_hand_value(player_hand) <= 21:\n",
    "            print(f\"\\nDealer's hand: {dealer_hand} (Value: {calculate_hand_value(dealer_hand)})\")\n",
    "            while calculate_hand_value(dealer_hand) < 17:\n",
    "                dealer_hand.append(deck.pop())\n",
    "                print(f\"Dealer hits: {dealer_hand} (Value: {calculate_hand_value(dealer_hand)})\")\n",
    "        \n",
    "            # Determine winner\n",
    "            player_value = calculate_hand_value(player_hand)\n",
    "            dealer_value = calculate_hand_value(dealer_hand)\n",
    "            print(f\"\\nFinal hands:\\nYour hand: {player_hand} (Value: {player_value})\\nDealer's hand: {dealer_hand} (Value: {dealer_value})\")\n",
    "            \n",
    "            if dealer_value > 21 or player_value > dealer_value:\n",
    "                print(\"You win!\")\n",
    "                chips += bet\n",
    "            elif player_value < dealer_value:\n",
    "                print(\"Dealer wins!\")\n",
    "                chips -= bet\n",
    "            else:\n",
    "                print(\"It's a tie!\")\n",
    "        \n",
    "        # Check if player wants to play again\n",
    "        if chips <= 0:\n",
    "            print(\"You're out of chips! Game over.\")\n",
    "            break\n",
    "        if input(\"Do you want to play again? (Y/N): \").strip().lower() != 'y':\n",
    "            break\n",
    "\n",
    "# Run the game\n",
    "play_blackjack()\n",
    "\n"
   ]
  },
  {
   "cell_type": "code",
   "execution_count": null,
   "id": "0d26e595-beb2-4374-8a43-f02d4480bc5d",
   "metadata": {},
   "outputs": [],
   "source": []
  }
 ],
 "metadata": {
  "kernelspec": {
   "display_name": "Python 3 (ipykernel)",
   "language": "python",
   "name": "python3"
  },
  "language_info": {
   "codemirror_mode": {
    "name": "ipython",
    "version": 3
   },
   "file_extension": ".py",
   "mimetype": "text/x-python",
   "name": "python",
   "nbconvert_exporter": "python",
   "pygments_lexer": "ipython3",
   "version": "3.12.4"
  }
 },
 "nbformat": 4,
 "nbformat_minor": 5
}
